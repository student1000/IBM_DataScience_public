{
 "cells": [
  {
   "cell_type": "markdown",
   "metadata": {},
   "source": [
    "<center>\n",
    "    <img src=\"https://cf-courses-data.s3.us.cloud-object-storage.appdomain.cloud/IBMDeveloperSkillsNetwork-DS0105EN-SkillsNetwork/labs/Module2/images/SN_web_lightmode.png\" width=\"300\" alt=\"cognitiveclass.ai logo\">\n",
    "</center>\n"
   ]
  },
  {
   "cell_type": "markdown",
   "metadata": {},
   "source": [
    "#### Add your code below following the instructions given in the course"
   ]
  },
  {
   "cell_type": "markdown",
   "metadata": {},
   "source": [
    "# Data Science Tools and Ecosystem"
   ]
  },
  {
   "cell_type": "markdown",
   "metadata": {
    "tags": []
   },
   "source": [
    "## Author:\n",
    "R Mather"
   ]
  },
  {
   "cell_type": "markdown",
   "metadata": {},
   "source": [
    "In this notebook, Data Science Tools and Ecosystem are summarized."
   ]
  },
  {
   "cell_type": "markdown",
   "metadata": {},
   "source": [
    "**Objectives:**\n",
    "\n",
    "- List popular languages for Data Science\n",
    "- List commonly used libraries used by Data Scientists\n",
    "- Provide examples of evaluating arithmetic expressions in Python"
   ]
  },
  {
   "cell_type": "markdown",
   "metadata": {},
   "source": [
    "Some of the popular languages that Data Scientists use are:\n",
    "1. Python\n",
    "2. R\n",
    "3. SQL\n",
    "3. Java\n",
    "4. C++\n",
    "5. Julia\n",
    "6. Scala\n",
    "7. JavaScript\n",
    "8. Matlab\n",
    "9. Go\n",
    "\n",
    "*Reference: https://www.knowledgehut.com/blog/data-science/programming-languages-for-data-science*"
   ]
  },
  {
   "cell_type": "markdown",
   "metadata": {},
   "source": [
    "Some of the commonly used libraries used by Data Scientists include:\n",
    "\n",
    "| Item | Python Library | Item | R Library |\n",
    "| --- | --- | --- | --- |\n",
    "| 1. | Tensorflow | 1. | dplyr |\n",
    "| 2. | NumPy | 2. | tidyr |\n",
    "| 3. | SciPy | 3. | readr |\n",
    "| 4. | Pandas | 4. | stringr |\n",
    "| 5. | Matplotlib | 5. | ggplot2 |\n",
    "| 6. | Keras | 6. | lubridate |\n",
    "| 7. | SciKit-Learn | 7. | jsonlite |\n",
    "| 8. | PyTorch | 8. | Shiny |\n",
    "| 9. | Scrapy | 9. | tseries |\n",
    "| 10. | BeautifulSoup | 10. | Prophet |\n",
    "| 11. | LightGBM | 11. | RColorBrewer |\n",
    "| 12. | ELI5 | 12. | githubinstall |\n",
    "| 13. | Theano | 13. | ggmap |\n",
    "| 14. | NuPIC | 14. | sqldf |\n",
    "| 15. | Ramp | 15. | caret |\n",
    "| 16. | Pipenv | | |\n",
    "| 17. | Bob | | |\n",
    "| 18. | PyBrain | | |\n",
    "| 19. | Caffe2 | |\n",
    "| 20. | Chainer | |\n",
    "\n",
    "*Reference for Python libraries: https://www.simplilearn.com/top-python-libraries-for-data-science-article* <br>\n",
    "*Reference for R libraries: https://www.knowledgehut.com/blog/data-science/top-r-libraries-for-data-science*"
   ]
  },
  {
   "cell_type": "markdown",
   "metadata": {},
   "source": [
    "\n",
    "| Data Science Tools |\n",
    "|---|\n",
    "| Jupyter Notebooks |\n",
    "| R-Studio |\n",
    "| Spyder |\n"
   ]
  },
  {
   "cell_type": "markdown",
   "metadata": {},
   "source": [
    "### Below are a few examples of evaluating arithmetic expressions in Python"
   ]
  },
  {
   "cell_type": "code",
   "execution_count": 2,
   "metadata": {
    "tags": []
   },
   "outputs": [
    {
     "data": {
      "text/plain": [
       "17"
      ]
     },
     "execution_count": 2,
     "metadata": {},
     "output_type": "execute_result"
    }
   ],
   "source": [
    "# This a simple arithmetic expression to mutiply then add integers\n",
    "(3*4)+5"
   ]
  },
  {
   "cell_type": "code",
   "execution_count": 11,
   "metadata": {
    "tags": []
   },
   "outputs": [
    {
     "name": "stdout",
     "output_type": "stream",
     "text": [
      "The number of hours is ...  3.3333333333333335\n",
      "The hours and minutes are ... Hrs: 3  Mins: 20\n"
     ]
    }
   ],
   "source": [
    "# This will convert 200 minutes to hours by dividing by 60\n",
    "hrs = 200 / 60\n",
    "print(\"The number of hours is ... \", hrs)\n",
    "int_hrs = 200 // 60\n",
    "mins = 200 % 60\n",
    "print(\"The hours and minutes are ... Hrs:\", int_hrs,\" Mins:\",mins )"
   ]
  },
  {
   "cell_type": "code",
   "execution_count": null,
   "metadata": {
    "tags": []
   },
   "outputs": [],
   "source": []
  },
  {
   "cell_type": "code",
   "execution_count": null,
   "metadata": {},
   "outputs": [],
   "source": []
  }
 ],
 "metadata": {
  "kernelspec": {
   "display_name": "Python",
   "language": "python",
   "name": "conda-env-python-py"
  },
  "language_info": {
   "codemirror_mode": {
    "name": "ipython",
    "version": 3
   },
   "file_extension": ".py",
   "mimetype": "text/x-python",
   "name": "python",
   "nbconvert_exporter": "python",
   "pygments_lexer": "ipython3",
   "version": "3.7.12"
  }
 },
 "nbformat": 4,
 "nbformat_minor": 4
}
